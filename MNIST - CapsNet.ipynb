{
 "cells": [
  {
   "cell_type": "markdown",
   "metadata": {},
   "source": [
    "# Capsule Network on MNIST with Reconstruction "
   ]
  },
  {
   "cell_type": "markdown",
   "metadata": {},
   "source": [
    "### Load MNIST data as numpy array"
   ]
  },
  {
   "cell_type": "code",
   "execution_count": 1,
   "metadata": {},
   "outputs": [
    {
     "name": "stderr",
     "output_type": "stream",
     "text": [
      "/usr/local/lib/python3.5/dist-packages/h5py/__init__.py:36: FutureWarning: Conversion of the second argument of issubdtype from `float` to `np.floating` is deprecated. In future, it will be treated as `np.float64 == np.dtype(float).type`.\n",
      "  from ._conv import register_converters as _register_converters\n"
     ]
    }
   ],
   "source": [
    "import h5py\n",
    "import numpy as np\n",
    "import matplotlib.pyplot as plt\n",
    "\n",
    "train_MNIST_dir = \"MNIST_h5/training_data.h5\" #MNIST training images in hdf5 format relative file path\n",
    "test_MNIST_dir = \"MNIST_h5/testing_data.h5\"#MNIST testing images in hdf5 format relative file path"
   ]
  },
  {
   "cell_type": "code",
   "execution_count": 2,
   "metadata": {},
   "outputs": [],
   "source": [
    "def read_h5(filepath):\n",
    "    '''Reads MNIST training images and labels from the hdf5 file.\n",
    "       Parameter\n",
    "       ---------\n",
    "       filepath : Path to the .h5 file | string\n",
    "    '''\n",
    "    file   = h5py.File(filepath, \"r+\") #open the hdf5 file\n",
    "    images = np.array(file[\"/images\"]).astype(\"uint8\") #read the images dataset\n",
    "    labels = np.array(file[\"/meta\"]).astype(\"uint8\")   #read the labels dataset (stored as meta)\n",
    "    \n",
    "    #normalization is important as it not only helps the network converge faster but\n",
    "    #it is required for the decoder to learn since it's final output goes through the sigmoid activation func.\n",
    "    images = images / 255.0 #normalize images i.e. pixel values are in the range of [0,1].\n",
    "    \n",
    "    return (images,labels)"
   ]
  },
  {
   "cell_type": "code",
   "execution_count": 3,
   "metadata": {},
   "outputs": [],
   "source": [
    "images, labels = read_h5(train_MNIST_dir)\n",
    "test_images, test_labels = read_h5(test_MNIST_dir)"
   ]
  },
  {
   "cell_type": "code",
   "execution_count": 4,
   "metadata": {},
   "outputs": [],
   "source": [
    "def one_hot_encoder(label_arr):\n",
    "    '''Returns the given MNIST labels from np arrays of integers to np array of one hot labels.\n",
    "       Parameter\n",
    "       ---------\n",
    "       label_arr : np array of MNIST integer labels\n",
    "    '''\n",
    "    total_labels  = label_arr.shape[0] #get the total number of labels\n",
    "    one_hot_label = np.zeros([total_labels, 10]) #10 for num of classes in MNIST\n",
    "    \n",
    "    for i in range(label_arr.shape[0]): #loop through all the labels\n",
    "        \n",
    "        one_hot_label[i][int(label_arr[i])] = 1.0 #the label value will be marked as 1.0 at that specific index\n",
    "        \n",
    "    return one_hot_label #returns the np one-hot label "
   ]
  },
  {
   "cell_type": "code",
   "execution_count": 5,
   "metadata": {},
   "outputs": [],
   "source": [
    "labels = one_hot_encoder(labels) #fetch the one-hot encoded labels\n",
    "images = images.reshape(images.shape[0], 28,28,1) #images in numpy : [60000, 28, 28, 1]\n",
    "\n",
    "test_labels = one_hot_encoder(test_labels)\n",
    "test_images = test_images.reshape(test_images.shape[0], 28,28,1)"
   ]
  },
  {
   "cell_type": "markdown",
   "metadata": {},
   "source": [
    "## Capsule Network"
   ]
  },
  {
   "cell_type": "markdown",
   "metadata": {},
   "source": [
    "**Parameters**"
   ]
  },
  {
   "cell_type": "code",
   "execution_count": 6,
   "metadata": {},
   "outputs": [],
   "source": [
    "import tensorflow as tf\n",
    "from tqdm import tqdm\n",
    "from tabulate import tabulate #to print the output of our model in a tabular manner.\n",
    "\n",
    "batch_size           = 200\n",
    "learning_rate        = 1e-3\n",
    "epsilon              = 1e-9\n",
    "epoch                = 20\n",
    "height,width         = 28, 28\n",
    "num_labels           = 10\n",
    "primary_caps_vlength = 8\n",
    "digit_caps_vlength   = 16\n",
    "routing_iteration    = 3\n",
    "m_plus               = 0.9\n",
    "m_minus              = 0.1\n",
    "lambda_              = 0.5\n",
    "reg_scale            = 0.0005\n",
    "reconstruction       = True"
   ]
  },
  {
   "cell_type": "markdown",
   "metadata": {},
   "source": [
    "**Capsule Network**"
   ]
  },
  {
   "cell_type": "code",
   "execution_count": 7,
   "metadata": {},
   "outputs": [],
   "source": [
    "def squash(capsule):\n",
    "    '''Note that the input is a [batch_size, 1152, 1, 8, 1] tensor. \n",
    "       I.e. there are 1152 8-d vectors in each batch.\n",
    "       To squash the vectors, we specificy the dimension the vector is in. In this case, axis is -2.\n",
    "    '''\n",
    "    #The output vector is in dimension -2 \n",
    "    dot_product = tf.reduce_sum(tf.square(capsule), axis=-2, keepdims=True) \n",
    "    scalar_factor = dot_product/(1 + dot_product)/tf.sqrt(dot_product + epsilon)\n",
    "    vec_squashed = scalar_factor * capsule\n",
    "    return vec_squashed"
   ]
  },
  {
   "cell_type": "code",
   "execution_count": 8,
   "metadata": {},
   "outputs": [],
   "source": [
    "def routing(capsule_layer, num_capsules):\n",
    "    \n",
    "    #define a weight variable for one capsule first\n",
    "    W = tf.get_variable('Weight', shape=(1, num_capsules, num_labels, primary_caps_vlength, digit_caps_vlength))\n",
    "    b = tf.get_variable('Bias', shape=(1,1,num_labels, digit_caps_vlength,1 )) \n",
    "    W = tf.tile(W, [tf.shape(capsule_layer)[0], 1, 1 ,1 ,1]) #tiling just makes a copy of the same weight variable for all the items in the batch. It is still the same weight.\n",
    "    x = tf.tile(capsule_layer, [1, 1, num_labels, 1, 1]) #this is set up for dynamic routing later\n",
    "    u_hat = tf.matmul(W,x, transpose_a=True) #[batch_size, 1152, 10, 16, 1]\n",
    "    u_hat_stopped = tf.stop_gradient(u_hat, name='stopped_gradient')\n",
    "    \n",
    "    #coefficients for dynamic routing\n",
    "    #MUST be initialized to zero for every round\n",
    "    b_ij = tf.zeros([tf.shape(capsule_layer)[0], num_capsules, num_labels, 1, 1], dtype=tf.float32)\n",
    "    \n",
    "    \n",
    "    for r_iter in range(routing_iteration):\n",
    "        \n",
    "        #softmax so that the value of the coefficient is between 0 and 1\n",
    "        #lower level capsules that contribute the most to a particular higher level capsule\n",
    "        #will have the largest value\n",
    "        c_ij = tf.nn.softmax(b_ij, axis=2)\n",
    "        \n",
    "        #last iteration\n",
    "        if r_iter == routing_iteration - 1:\n",
    "            \n",
    "            s_j = tf.multiply(c_ij, u_hat) #multiply the coefficients with each capsule\n",
    "            \n",
    "            #reducing the sum at axis 1 makes the capsules with highest coefficient to \n",
    "            #contribute more and the lowest coefficient capsules to contirbute less\n",
    "            s_j = tf.reduce_sum(s_j, axis=1, keepdims=True) + b\n",
    "            \n",
    "            v_j = squash(s_j)\n",
    "            \n",
    "        else:\n",
    "            \n",
    "            s_j = tf.multiply(c_ij, u_hat_stopped)\n",
    "            \n",
    "            #reducing the sum at axis 1 makes the capsules with highest coefficient to contribute more and the \n",
    "            #lowest coefficient capsules to contirbute less\n",
    "            s_j = tf.reduce_sum(s_j, axis=1, keepdims=True) + b \n",
    "            v_j = squash(s_j)\n",
    "            \n",
    "            #make a copy at the number of capsules axis in\n",
    "            #order to find the scalar product\n",
    "            v_j_tiled = tf.tile(v_j, [1, num_capsules, 1, 1, 1]) \n",
    "            \n",
    "            product = u_hat_stopped * v_j_tiled #[batch_size, 1152, 10, 16, 1]\n",
    "            #by reducing the sum at axis 3, where the previous product produced new vectors, gives a scalar value.\n",
    "            #Whichever capsules that agrees with each other will produce high valued vectors. Sum reduce would\n",
    "            #add them all up together to bring a scalar value which then used for the softmax to enable the routing\n",
    "            u_produce_v = tf.reduce_sum(product, axis=3, keepdims=True) #\n",
    "            \n",
    "            #append the contribution of each lower level capsules to the higher level capsules\n",
    "            b_ij += u_produce_v\n",
    "    \n",
    "    return v_j"
   ]
  },
  {
   "cell_type": "code",
   "execution_count": 9,
   "metadata": {},
   "outputs": [],
   "source": [
    "X = tf.placeholder(tf.float32, shape=(None, height, width, 1), name='input')\n",
    "Y = tf.placeholder(tf.float32, shape=(None, num_labels), name='target')\n",
    "\n",
    "conv1 = tf.contrib.layers.conv2d(X, num_outputs=256, kernel_size=9, stride=1, padding='VALID', \n",
    "                                 activation_fn=tf.nn.relu) #output conv1 : [batch_size, 20, 20, 1]\n",
    "conv2 = tf.contrib.layers.conv2d(conv1, num_outputs=256, kernel_size=9, stride=2, padding='VALID',\n",
    "                                 activation_fn=tf.nn.relu) #output conv2 : [batch_size, 6, 6, 1]\n",
    "\n",
    "#reshape the output of conv2 to [batch_size, 1152, 8, 1]\n",
    "capsules = tf.reshape(conv2, (tf.shape(conv2)[0], -1, primary_caps_vlength, 1))\n",
    "num_capsules = 6*6*32 #= 1152\n",
    "primary_caps = squash(capsules) #non-linearity\n",
    "\n",
    "#each primary capsule is multiplied by a weight matrix.The weight matrix will change the 8-D vectors\n",
    "#to 16-D vectors. Furthermore, the number of capsules should also be reduced to 10.We would do that by dynamic \n",
    "#routing.\n",
    "#However, before that, we need to create an extra rank after the num of capsules and tile it (2nd index\n",
    "#starting from index 0) to 10. With that, the 1024 capsules can be reduced to 1 and remove that dimension. \n",
    "#The process of reducing the capsules to 10 is done by dynamic routing.\n",
    "primary_caps = tf.reshape(primary_caps, shape=(tf.shape(capsules)[0], -1, 1, 8, 1 )) #create the extra rank \n",
    "#primary_caps.shape = [batch_size, 1152, 1, 8, 1]\n",
    "\n",
    "digits = routing(primary_caps, num_capsules) # [batch_size, 1, 10, 16, 1]\n",
    "digits = tf.squeeze(digits, axis=1, name='digits') # [batch_size, 10, 16, 1]\n",
    "\n",
    "#the length of each vectors in the digit capsule layer\n",
    "#[batch_size, 10, 1, 1]\n",
    "v_lengths = tf.sqrt(tf.reduce_sum(tf.square(digits), axis=2, keepdims=True) + epsilon, name='digit_vectors') "
   ]
  },
  {
   "cell_type": "code",
   "execution_count": 10,
   "metadata": {},
   "outputs": [],
   "source": [
    "#Objective function for classification\n",
    "max_l = tf.square(tf.maximum(0., m_plus - v_lengths))\n",
    "max_r = tf.square(tf.maximum(0., v_lengths - m_minus))\n",
    "\n",
    "max_l = tf.reshape(max_l, shape=(tf.shape(digits)[0], -1))\n",
    "max_r = tf.reshape(max_r, shape=(tf.shape(digits)[0], -1))\n",
    "T_c = Y\n",
    "\n",
    "L_c = T_c * max_l + lambda_*(1-T_c)*max_r\n",
    "margin_loss = tf.reduce_mean(tf.reduce_sum(L_c, axis=1), name='margin_loss') #test without reduce mean later"
   ]
  },
  {
   "cell_type": "code",
   "execution_count": 11,
   "metadata": {},
   "outputs": [],
   "source": [
    "#RECONSTRUCTION\n",
    "#First step is to mask out all the vectors from digit capsules except the correct class vector.\n",
    "#By performing an element-wise multiplication between the 10 capsules and the Y vector\n",
    "mask = tf.multiply(tf.squeeze(digits), tf.reshape(Y, (-1, num_labels, 1)))\n",
    "vector_j = tf.reshape(mask, shape=(tf.shape(digits)[0], 160)) #reshape into [batch_size, 160]\n",
    "fc1 = tf.contrib.layers.fully_connected(vector_j, num_outputs=512, activation_fn=tf.nn.relu, trainable=True)\n",
    "fc2 = tf.contrib.layers.fully_connected(fc1, num_outputs=1024, activation_fn=tf.nn.relu, trainable=True)\n",
    "decoded = tf.layers.dense(fc2, units=height*width*1, activation=tf.nn.sigmoid, name='decoded')"
   ]
  },
  {
   "cell_type": "code",
   "execution_count": 12,
   "metadata": {},
   "outputs": [],
   "source": [
    "#RECONSTUCTION LOSS\n",
    "origin   = tf.reshape(X, shape=(tf.shape(digits)[0], -1))\n",
    "squared  = tf.square(decoded - origin)\n",
    "\n",
    "#reg scale is used to control the total loss so that the margin loss would not be overtaken by the reconstruction\n",
    "#loss.\n",
    "reconst_err = reg_scale * tf.reduce_sum(squared, name='reconstruction_error')\n",
    "\n",
    "total_loss = margin_loss + reconst_err #total for both classification and reconstruction\n",
    "\n",
    "#decayed learning rate\n",
    "global_step = tf.Variable(0, trainable=False)\n",
    "decayed_lr = tf.train.exponential_decay(learning_rate,\n",
    "                                            global_step, 20000,\n",
    "                                            0.95, staircase=True)\n",
    "\n",
    "\n",
    "optimizer_classification = tf.train.AdamOptimizer(decayed_lr).minimize(margin_loss, global_step=global_step) #for classification\n",
    "optimizer_decoder = tf.train.AdamOptimizer(decayed_lr).minimize(total_loss, global_step=global_step) #for reconstruction\n",
    "\n",
    "softmax_v = tf.nn.softmax(v_lengths, axis=1)\n",
    "argmax_idx = tf.argmax(softmax_v, axis=1)\n",
    "argmax_idx = tf.reshape(argmax_idx, shape=(tf.shape(conv2)[0],))\n",
    "correct_prediction = tf.equal(argmax_idx, tf.argmax(Y,1))\n",
    "accuracy = tf.reduce_mean(tf.cast(correct_prediction, 'float32'))"
   ]
  },
  {
   "cell_type": "markdown",
   "metadata": {},
   "source": [
    "### Training & Testing Session"
   ]
  },
  {
   "cell_type": "code",
   "execution_count": 13,
   "metadata": {},
   "outputs": [
    {
     "name": "stdout",
     "output_type": "stream",
     "text": [
      "INFO:tensorflow:Restoring parameters from ./model_ckpt/model.ckpt\n"
     ]
    },
    {
     "name": "stderr",
     "output_type": "stream",
     "text": [
      "\r",
      "  0%|          | 0/300 [00:00<?, ?it/s]"
     ]
    },
    {
     "name": "stdout",
     "output_type": "stream",
     "text": [
      "Model is not loaded !\n"
     ]
    },
    {
     "name": "stderr",
     "output_type": "stream",
     "text": [
      "100%|██████████| 300/300 [02:49<00:00,  1.77it/s]\n",
      "100%|██████████| 50/50 [00:09<00:00,  5.42it/s]\n"
     ]
    },
    {
     "name": "stdout",
     "output_type": "stream",
     "text": [
      "\t----Epoch 0---- \n",
      "Training Loss/Accuracy          Value\n",
      "------------------------  -----------\n",
      "Margin Loss                 57.731\n",
      "Reconstruction Loss       1270.46\n",
      "Classification Accuracy      0.849283\n",
      "\n",
      "\n",
      "Testing Loss/Accuracy        Value\n",
      "-----------------------  ---------\n",
      "Margin Loss                4.07942\n",
      "Reconstruction Loss      133.726\n",
      "Classification Accuracy    0.9606\n"
     ]
    },
    {
     "name": "stderr",
     "output_type": "stream",
     "text": [
      "\r",
      "  0%|          | 0/300 [00:00<?, ?it/s]"
     ]
    },
    {
     "name": "stdout",
     "output_type": "stream",
     "text": [
      "Model saved !\n"
     ]
    },
    {
     "name": "stderr",
     "output_type": "stream",
     "text": [
      "100%|██████████| 300/300 [02:45<00:00,  1.81it/s]\n",
      "100%|██████████| 50/50 [00:09<00:00,  5.47it/s]\n"
     ]
    },
    {
     "name": "stdout",
     "output_type": "stream",
     "text": [
      "\t----Epoch 1---- \n",
      "Training Loss/Accuracy         Value\n",
      "------------------------  ----------\n",
      "Margin Loss                21.9186\n",
      "Reconstruction Loss       645.671\n",
      "Classification Accuracy     0.964483\n",
      "\n",
      "\n",
      "Testing Loss/Accuracy       Value\n",
      "-----------------------  --------\n",
      "Margin Loss               3.13391\n",
      "Reconstruction Loss      86.7745\n",
      "Classification Accuracy   0.9748\n"
     ]
    },
    {
     "name": "stderr",
     "output_type": "stream",
     "text": [
      "\r",
      "  0%|          | 0/300 [00:00<?, ?it/s]"
     ]
    },
    {
     "name": "stdout",
     "output_type": "stream",
     "text": [
      "Model saved !\n"
     ]
    },
    {
     "name": "stderr",
     "output_type": "stream",
     "text": [
      "100%|██████████| 300/300 [02:45<00:00,  1.81it/s]\n",
      "100%|██████████| 50/50 [00:09<00:00,  5.46it/s]\n"
     ]
    },
    {
     "name": "stdout",
     "output_type": "stream",
     "text": [
      "\t----Epoch 2---- \n",
      "Training Loss/Accuracy         Value\n",
      "------------------------  ----------\n",
      "Margin Loss                17.2363\n",
      "Reconstruction Loss       465.925\n",
      "Classification Accuracy     0.974883\n",
      "\n",
      "\n",
      "Testing Loss/Accuracy       Value\n",
      "-----------------------  --------\n",
      "Margin Loss               2.65713\n",
      "Reconstruction Loss      68.7802\n",
      "Classification Accuracy   0.9788\n"
     ]
    },
    {
     "name": "stderr",
     "output_type": "stream",
     "text": [
      "\r",
      "  0%|          | 0/300 [00:00<?, ?it/s]"
     ]
    },
    {
     "name": "stdout",
     "output_type": "stream",
     "text": [
      "Model saved !\n"
     ]
    },
    {
     "name": "stderr",
     "output_type": "stream",
     "text": [
      "100%|██████████| 300/300 [02:46<00:00,  1.80it/s]\n",
      "100%|██████████| 50/50 [00:09<00:00,  5.42it/s]\n"
     ]
    },
    {
     "name": "stdout",
     "output_type": "stream",
     "text": [
      "\t----Epoch 3---- \n",
      "Training Loss/Accuracy         Value\n",
      "------------------------  ----------\n",
      "Margin Loss                14.876\n",
      "Reconstruction Loss       383.665\n",
      "Classification Accuracy     0.979917\n",
      "\n",
      "\n",
      "Testing Loss/Accuracy       Value\n",
      "-----------------------  --------\n",
      "Margin Loss               2.39309\n",
      "Reconstruction Loss      58.807\n",
      "Classification Accuracy   0.982\n"
     ]
    },
    {
     "name": "stderr",
     "output_type": "stream",
     "text": [
      "\r",
      "  0%|          | 0/300 [00:00<?, ?it/s]"
     ]
    },
    {
     "name": "stdout",
     "output_type": "stream",
     "text": [
      "Model saved !\n"
     ]
    },
    {
     "name": "stderr",
     "output_type": "stream",
     "text": [
      "100%|██████████| 300/300 [02:45<00:00,  1.81it/s]\n",
      "100%|██████████| 50/50 [00:09<00:00,  5.47it/s]\n"
     ]
    },
    {
     "name": "stdout",
     "output_type": "stream",
     "text": [
      "\t----Epoch 4---- \n",
      "Training Loss/Accuracy       Value\n",
      "------------------------  --------\n",
      "Margin Loss                13.2762\n",
      "Reconstruction Loss       327.807\n",
      "Classification Accuracy     0.983\n",
      "\n",
      "\n",
      "Testing Loss/Accuracy       Value\n",
      "-----------------------  --------\n",
      "Margin Loss               2.13329\n",
      "Reconstruction Loss      51.9445\n",
      "Classification Accuracy   0.9839\n"
     ]
    },
    {
     "name": "stderr",
     "output_type": "stream",
     "text": [
      "\r",
      "  0%|          | 0/300 [00:00<?, ?it/s]"
     ]
    },
    {
     "name": "stdout",
     "output_type": "stream",
     "text": [
      "Model saved !\n"
     ]
    },
    {
     "name": "stderr",
     "output_type": "stream",
     "text": [
      "100%|██████████| 300/300 [02:45<00:00,  1.81it/s]\n",
      "100%|██████████| 50/50 [00:09<00:00,  5.47it/s]\n"
     ]
    },
    {
     "name": "stdout",
     "output_type": "stream",
     "text": [
      "\t----Epoch 5---- \n",
      "Training Loss/Accuracy         Value\n",
      "------------------------  ----------\n",
      "Margin Loss                11.8137\n",
      "Reconstruction Loss       294.343\n",
      "Classification Accuracy     0.984867\n",
      "\n",
      "\n",
      "Testing Loss/Accuracy       Value\n",
      "-----------------------  --------\n",
      "Margin Loss               1.91322\n",
      "Reconstruction Loss      48.2191\n",
      "Classification Accuracy   0.986\n"
     ]
    },
    {
     "name": "stderr",
     "output_type": "stream",
     "text": [
      "\r",
      "  0%|          | 0/300 [00:00<?, ?it/s]"
     ]
    },
    {
     "name": "stdout",
     "output_type": "stream",
     "text": [
      "Model saved !\n"
     ]
    },
    {
     "name": "stderr",
     "output_type": "stream",
     "text": [
      "100%|██████████| 300/300 [02:45<00:00,  1.81it/s]\n",
      "100%|██████████| 50/50 [00:09<00:00,  5.50it/s]\n"
     ]
    },
    {
     "name": "stdout",
     "output_type": "stream",
     "text": [
      "\t----Epoch 6---- \n",
      "Training Loss/Accuracy        Value\n",
      "------------------------  ---------\n",
      "Margin Loss                10.6628\n",
      "Reconstruction Loss       271.177\n",
      "Classification Accuracy     0.98625\n",
      "\n",
      "\n",
      "Testing Loss/Accuracy       Value\n",
      "-----------------------  --------\n",
      "Margin Loss               1.78274\n",
      "Reconstruction Loss      44.4659\n",
      "Classification Accuracy   0.9868\n"
     ]
    },
    {
     "name": "stderr",
     "output_type": "stream",
     "text": [
      "\r",
      "  0%|          | 0/300 [00:00<?, ?it/s]"
     ]
    },
    {
     "name": "stdout",
     "output_type": "stream",
     "text": [
      "Model saved !\n"
     ]
    },
    {
     "name": "stderr",
     "output_type": "stream",
     "text": [
      "100%|██████████| 300/300 [02:45<00:00,  1.81it/s]\n",
      "100%|██████████| 50/50 [00:09<00:00,  5.48it/s]\n"
     ]
    },
    {
     "name": "stdout",
     "output_type": "stream",
     "text": [
      "\t----Epoch 7---- \n",
      "Training Loss/Accuracy         Value\n",
      "------------------------  ----------\n",
      "Margin Loss                 9.90805\n",
      "Reconstruction Loss       256.037\n",
      "Classification Accuracy     0.987133\n",
      "\n",
      "\n",
      "Testing Loss/Accuracy       Value\n",
      "-----------------------  --------\n",
      "Margin Loss               1.74127\n",
      "Reconstruction Loss      43.8948\n",
      "Classification Accuracy   0.9866\n"
     ]
    },
    {
     "name": "stderr",
     "output_type": "stream",
     "text": [
      "\r",
      "  0%|          | 0/300 [00:00<?, ?it/s]"
     ]
    },
    {
     "name": "stdout",
     "output_type": "stream",
     "text": [
      "Model saved !\n"
     ]
    },
    {
     "name": "stderr",
     "output_type": "stream",
     "text": [
      "100%|██████████| 300/300 [02:46<00:00,  1.80it/s]\n",
      "100%|██████████| 50/50 [00:09<00:00,  5.50it/s]\n"
     ]
    },
    {
     "name": "stdout",
     "output_type": "stream",
     "text": [
      "\t----Epoch 8---- \n",
      "Training Loss/Accuracy         Value\n",
      "------------------------  ----------\n",
      "Margin Loss                 9.23176\n",
      "Reconstruction Loss       241.317\n",
      "Classification Accuracy     0.988217\n",
      "\n",
      "\n",
      "Testing Loss/Accuracy       Value\n",
      "-----------------------  --------\n",
      "Margin Loss               1.60459\n",
      "Reconstruction Loss      41.428\n",
      "Classification Accuracy   0.9874\n"
     ]
    },
    {
     "name": "stderr",
     "output_type": "stream",
     "text": [
      "\r",
      "  0%|          | 0/300 [00:00<?, ?it/s]"
     ]
    },
    {
     "name": "stdout",
     "output_type": "stream",
     "text": [
      "Model saved !\n"
     ]
    },
    {
     "name": "stderr",
     "output_type": "stream",
     "text": [
      "100%|██████████| 300/300 [02:45<00:00,  1.81it/s]\n",
      "100%|██████████| 50/50 [00:09<00:00,  5.49it/s]\n"
     ]
    },
    {
     "name": "stdout",
     "output_type": "stream",
     "text": [
      "\t----Epoch 9---- \n",
      "Training Loss/Accuracy         Value\n",
      "------------------------  ----------\n",
      "Margin Loss                 8.54224\n",
      "Reconstruction Loss       228.691\n",
      "Classification Accuracy     0.989117\n",
      "\n",
      "\n",
      "Testing Loss/Accuracy       Value\n",
      "-----------------------  --------\n",
      "Margin Loss               1.50463\n",
      "Reconstruction Loss      39.6317\n",
      "Classification Accuracy   0.9882\n"
     ]
    },
    {
     "name": "stderr",
     "output_type": "stream",
     "text": [
      "\r",
      "  0%|          | 0/300 [00:00<?, ?it/s]"
     ]
    },
    {
     "name": "stdout",
     "output_type": "stream",
     "text": [
      "Model saved !\n"
     ]
    },
    {
     "name": "stderr",
     "output_type": "stream",
     "text": [
      "100%|██████████| 300/300 [02:45<00:00,  1.81it/s]\n",
      "100%|██████████| 50/50 [00:09<00:00,  5.47it/s]\n"
     ]
    },
    {
     "name": "stdout",
     "output_type": "stream",
     "text": [
      "\t----Epoch 10---- \n",
      "Training Loss/Accuracy        Value\n",
      "------------------------  ---------\n",
      "Margin Loss                 8.01213\n",
      "Reconstruction Loss       219.067\n",
      "Classification Accuracy     0.98985\n",
      "\n",
      "\n",
      "Testing Loss/Accuracy       Value\n",
      "-----------------------  --------\n",
      "Margin Loss               1.44227\n",
      "Reconstruction Loss      38.4085\n",
      "Classification Accuracy   0.9887\n"
     ]
    },
    {
     "name": "stderr",
     "output_type": "stream",
     "text": [
      "\r",
      "  0%|          | 0/300 [00:00<?, ?it/s]"
     ]
    },
    {
     "name": "stdout",
     "output_type": "stream",
     "text": [
      "Model saved !\n"
     ]
    },
    {
     "name": "stderr",
     "output_type": "stream",
     "text": [
      "100%|██████████| 300/300 [02:46<00:00,  1.81it/s]\n",
      "100%|██████████| 50/50 [00:09<00:00,  5.48it/s]\n"
     ]
    },
    {
     "name": "stdout",
     "output_type": "stream",
     "text": [
      "\t----Epoch 11---- \n",
      "Training Loss/Accuracy         Value\n",
      "------------------------  ----------\n",
      "Margin Loss                 7.64233\n",
      "Reconstruction Loss       212.117\n",
      "Classification Accuracy     0.990567\n",
      "\n",
      "\n",
      "Testing Loss/Accuracy       Value\n",
      "-----------------------  --------\n",
      "Margin Loss               1.39709\n",
      "Reconstruction Loss      38.0247\n",
      "Classification Accuracy   0.989\n"
     ]
    },
    {
     "name": "stderr",
     "output_type": "stream",
     "text": [
      "\r",
      "  0%|          | 0/300 [00:00<?, ?it/s]"
     ]
    },
    {
     "name": "stdout",
     "output_type": "stream",
     "text": [
      "Model saved !\n"
     ]
    },
    {
     "name": "stderr",
     "output_type": "stream",
     "text": [
      "100%|██████████| 300/300 [02:46<00:00,  1.80it/s]\n",
      "100%|██████████| 50/50 [00:09<00:00,  5.46it/s]\n"
     ]
    },
    {
     "name": "stdout",
     "output_type": "stream",
     "text": [
      "\t----Epoch 12---- \n",
      "Training Loss/Accuracy         Value\n",
      "------------------------  ----------\n",
      "Margin Loss                 7.47646\n",
      "Reconstruction Loss       209.233\n",
      "Classification Accuracy     0.991083\n",
      "\n",
      "\n",
      "Testing Loss/Accuracy       Value\n",
      "-----------------------  --------\n",
      "Margin Loss               1.38596\n",
      "Reconstruction Loss      38.0072\n",
      "Classification Accuracy   0.989\n"
     ]
    },
    {
     "name": "stderr",
     "output_type": "stream",
     "text": [
      "\r",
      "  0%|          | 0/300 [00:00<?, ?it/s]"
     ]
    },
    {
     "name": "stdout",
     "output_type": "stream",
     "text": [
      "Model saved !\n"
     ]
    },
    {
     "name": "stderr",
     "output_type": "stream",
     "text": [
      "100%|██████████| 300/300 [02:45<00:00,  1.81it/s]\n",
      "100%|██████████| 50/50 [00:09<00:00,  5.44it/s]\n"
     ]
    },
    {
     "name": "stdout",
     "output_type": "stream",
     "text": [
      "\t----Epoch 13---- \n",
      "Training Loss/Accuracy         Value\n",
      "------------------------  ----------\n",
      "Margin Loss                 7.23112\n",
      "Reconstruction Loss       203.82\n",
      "Classification Accuracy     0.991533\n",
      "\n",
      "\n",
      "Testing Loss/Accuracy       Value\n",
      "-----------------------  --------\n",
      "Margin Loss               1.34161\n",
      "Reconstruction Loss      37.6198\n",
      "Classification Accuracy   0.9891\n"
     ]
    },
    {
     "name": "stderr",
     "output_type": "stream",
     "text": [
      "\r",
      "  0%|          | 0/300 [00:00<?, ?it/s]"
     ]
    },
    {
     "name": "stdout",
     "output_type": "stream",
     "text": [
      "Model saved !\n"
     ]
    },
    {
     "name": "stderr",
     "output_type": "stream",
     "text": [
      "100%|██████████| 300/300 [02:46<00:00,  1.80it/s]\n",
      "100%|██████████| 50/50 [00:09<00:00,  5.47it/s]\n"
     ]
    },
    {
     "name": "stdout",
     "output_type": "stream",
     "text": [
      "\t----Epoch 14---- \n",
      "Training Loss/Accuracy        Value\n",
      "------------------------  ---------\n",
      "Margin Loss                 6.79127\n",
      "Reconstruction Loss       194.507\n",
      "Classification Accuracy     0.99225\n",
      "\n",
      "\n",
      "Testing Loss/Accuracy       Value\n",
      "-----------------------  --------\n",
      "Margin Loss               1.27946\n",
      "Reconstruction Loss      35.3601\n",
      "Classification Accuracy   0.989\n"
     ]
    },
    {
     "name": "stderr",
     "output_type": "stream",
     "text": [
      "\r",
      "  0%|          | 0/300 [00:00<?, ?it/s]"
     ]
    },
    {
     "name": "stdout",
     "output_type": "stream",
     "text": [
      "Model saved !\n"
     ]
    },
    {
     "name": "stderr",
     "output_type": "stream",
     "text": [
      "100%|██████████| 300/300 [02:46<00:00,  1.80it/s]\n",
      "100%|██████████| 50/50 [00:09<00:00,  5.44it/s]\n"
     ]
    },
    {
     "name": "stdout",
     "output_type": "stream",
     "text": [
      "\t----Epoch 15---- \n",
      "Training Loss/Accuracy         Value\n",
      "------------------------  ----------\n",
      "Margin Loss                 6.38387\n",
      "Reconstruction Loss       187.482\n",
      "Classification Accuracy     0.992817\n",
      "\n",
      "\n",
      "Testing Loss/Accuracy       Value\n",
      "-----------------------  --------\n",
      "Margin Loss               1.25353\n",
      "Reconstruction Loss      35.2529\n",
      "Classification Accuracy   0.9893\n"
     ]
    },
    {
     "name": "stderr",
     "output_type": "stream",
     "text": [
      "\r",
      "  0%|          | 0/300 [00:00<?, ?it/s]"
     ]
    },
    {
     "name": "stdout",
     "output_type": "stream",
     "text": [
      "Model saved !\n"
     ]
    },
    {
     "name": "stderr",
     "output_type": "stream",
     "text": [
      "100%|██████████| 300/300 [02:46<00:00,  1.80it/s]\n",
      "100%|██████████| 50/50 [00:09<00:00,  5.46it/s]\n"
     ]
    },
    {
     "name": "stdout",
     "output_type": "stream",
     "text": [
      "\t----Epoch 16---- \n",
      "Training Loss/Accuracy         Value\n",
      "------------------------  ----------\n",
      "Margin Loss                 6.13507\n",
      "Reconstruction Loss       183.32\n",
      "Classification Accuracy     0.993067\n",
      "\n",
      "\n",
      "Testing Loss/Accuracy       Value\n",
      "-----------------------  --------\n",
      "Margin Loss               1.24309\n",
      "Reconstruction Loss      34.9216\n",
      "Classification Accuracy   0.9897\n"
     ]
    },
    {
     "name": "stderr",
     "output_type": "stream",
     "text": [
      "\r",
      "  0%|          | 0/300 [00:00<?, ?it/s]"
     ]
    },
    {
     "name": "stdout",
     "output_type": "stream",
     "text": [
      "Model saved !\n"
     ]
    },
    {
     "name": "stderr",
     "output_type": "stream",
     "text": [
      "100%|██████████| 300/300 [02:46<00:00,  1.80it/s]\n",
      "100%|██████████| 50/50 [00:09<00:00,  5.44it/s]\n"
     ]
    },
    {
     "name": "stdout",
     "output_type": "stream",
     "text": [
      "\t----Epoch 17---- \n",
      "Training Loss/Accuracy        Value\n",
      "------------------------  ---------\n",
      "Margin Loss                 6.04929\n",
      "Reconstruction Loss       182.802\n",
      "Classification Accuracy     0.99335\n",
      "\n",
      "\n",
      "Testing Loss/Accuracy       Value\n",
      "-----------------------  --------\n",
      "Margin Loss               1.27397\n",
      "Reconstruction Loss      34.8228\n",
      "Classification Accuracy   0.9895\n"
     ]
    },
    {
     "name": "stderr",
     "output_type": "stream",
     "text": [
      "\r",
      "  0%|          | 0/300 [00:00<?, ?it/s]"
     ]
    },
    {
     "name": "stdout",
     "output_type": "stream",
     "text": [
      "Model saved !\n"
     ]
    },
    {
     "name": "stderr",
     "output_type": "stream",
     "text": [
      "100%|██████████| 300/300 [02:46<00:00,  1.80it/s]\n",
      "100%|██████████| 50/50 [00:09<00:00,  5.43it/s]\n"
     ]
    },
    {
     "name": "stdout",
     "output_type": "stream",
     "text": [
      "\t----Epoch 18---- \n",
      "Training Loss/Accuracy        Value\n",
      "------------------------  ---------\n",
      "Margin Loss                 6.06528\n",
      "Reconstruction Loss       181.988\n",
      "Classification Accuracy     0.9935\n",
      "\n",
      "\n",
      "Testing Loss/Accuracy       Value\n",
      "-----------------------  --------\n",
      "Margin Loss               1.18952\n",
      "Reconstruction Loss      33.6095\n",
      "Classification Accuracy   0.9899\n"
     ]
    },
    {
     "name": "stderr",
     "output_type": "stream",
     "text": [
      "\r",
      "  0%|          | 0/300 [00:00<?, ?it/s]"
     ]
    },
    {
     "name": "stdout",
     "output_type": "stream",
     "text": [
      "Model saved !\n"
     ]
    },
    {
     "name": "stderr",
     "output_type": "stream",
     "text": [
      "100%|██████████| 300/300 [02:46<00:00,  1.80it/s]\n",
      "100%|██████████| 50/50 [00:09<00:00,  5.43it/s]\n"
     ]
    },
    {
     "name": "stdout",
     "output_type": "stream",
     "text": [
      "\t----Epoch 19---- \n",
      "Training Loss/Accuracy        Value\n",
      "------------------------  ---------\n",
      "Margin Loss                 5.84421\n",
      "Reconstruction Loss       177.384\n",
      "Classification Accuracy     0.99355\n",
      "\n",
      "\n",
      "Testing Loss/Accuracy       Value\n",
      "-----------------------  --------\n",
      "Margin Loss               1.16328\n",
      "Reconstruction Loss      33.357\n",
      "Classification Accuracy   0.9906\n",
      "Model saved !\n"
     ]
    }
   ],
   "source": [
    "sess = tf.InteractiveSession()\n",
    "sess.run(tf.global_variables_initializer())\n",
    "\n",
    "\n",
    "saver = tf.train.Saver(tf.global_variables())\n",
    "\n",
    "#to load a saved model\n",
    "try:    \n",
    "    saver.restore(sess, './model_ckpt/model.ckpt')\n",
    "    print(\"Model is loaded!\")\n",
    "\n",
    "except Exception as e:\n",
    "    print(\"Model is not loaded !\")\n",
    "    pass\n",
    "\n",
    "\n",
    "total_images = images.shape[0] #total number of training images\n",
    "total_test_images = test_images.shape[0] #total number of testing images\n",
    "\n",
    "#For graph plotting\n",
    "train_m_loss_list = []\n",
    "train_r_loss_list = []\n",
    "train_acc_list    = []\n",
    "test_m_loss_list  = []\n",
    "test_r_loss_list  = []\n",
    "test_acc_list     = []\n",
    "\n",
    "\n",
    "for epoch_iter in range(epoch):\n",
    "    counter = 0\n",
    "    total_r_loss = 0\n",
    "    total_m_loss = 0\n",
    "    accuracy_total = 0\n",
    "    test_counter = 0\n",
    "    test_accuracy_total = 0\n",
    "    test_r_loss = 0\n",
    "    test_m_loss = 0\n",
    "    \n",
    "    #FOR TRAINING \n",
    "    for index in tqdm(range(0, total_images, batch_size)):\n",
    "        \n",
    "        end_batch = index + batch_size \n",
    "        \n",
    "        if end_batch >= total_images : end_batch = None #to prevent the last index to go beyond the data size\n",
    "        \n",
    "        if reconstruction:\n",
    "            #optimize for classification and reconstruction\n",
    "            m_loss, r_loss, accuracy_,_ = sess.run([margin_loss, reconst_err,accuracy, optimizer_decoder], \n",
    "                            feed_dict={X:images[index:end_batch], Y:labels[index:end_batch]})\n",
    "            \n",
    "            total_r_loss += r_loss\n",
    "            total_m_loss += m_loss\n",
    "            accuracy_total += accuracy_\n",
    "            \n",
    "            counter += 1 #to check how many times this 'for loop' was used\n",
    "        \n",
    "            \n",
    "        else:\n",
    "            #optimize only for classification\n",
    "            \n",
    "            loss_, accuracy_,_ = sess.run([margin_loss, accuracy, optimizer_classification], \n",
    "                            feed_dict={X:images[index:end_batch], Y:labels[index:end_batch]})\n",
    "            \n",
    "            total_m_loss += loss_\n",
    "            accuracy_total += accuracy_\n",
    "            \n",
    "            counter += 1\n",
    "    \n",
    "            \n",
    "    #FOR TESTING\n",
    "    for test_index in tqdm(range(0, total_test_images, batch_size)):\n",
    "        \n",
    "        end_batch_test = test_index + batch_size \n",
    "        \n",
    "        if end_batch_test >= total_test_images : end_batch_test = None #to prevent the last index to go beyond the data size\n",
    "        \n",
    "        if reconstruction:\n",
    "           \n",
    "            test_m_loss_,test_r_loss_, test_accuracy_ = sess.run([margin_loss, reconst_err,accuracy], \n",
    "                            feed_dict={X:test_images[test_index:end_batch_test], Y:test_labels[test_index:end_batch_test]})\n",
    "            \n",
    "            test_m_loss += test_m_loss_\n",
    "            test_r_loss += test_r_loss_\n",
    "            test_accuracy_total += test_accuracy_\n",
    "            \n",
    "            test_counter += 1\n",
    "            \n",
    "        else:\n",
    "          \n",
    "            \n",
    "            test_m_loss_, test_accuracy_= sess.run([margin_loss, accuracy], \n",
    "                            feed_dict={X:test_images[test_index:end_batch_test], Y:test_labels[test_index:end_batch_test]})\n",
    "            \n",
    "            test_m_loss += test_m_loss_\n",
    "            test_accuracy_total += test_accuracy_\n",
    "            \n",
    "            test_counter += 1\n",
    "        \n",
    "    if reconstruction:\n",
    "        train_m_loss_list.append(total_m_loss)\n",
    "        train_r_loss_list.append(total_r_loss)\n",
    "        train_acc_list.append(accuracy_total/counter)\n",
    "        test_m_loss_list.append(test_m_loss)\n",
    "        test_r_loss_list.append(test_r_loss)\n",
    "        test_acc_list.append(test_accuracy_total/test_counter)\n",
    "        \n",
    "        print(\"\\t----Epoch %d---- \"%(epoch_iter))\n",
    "        print(tabulate([[\"Margin Loss\", total_m_loss], [\"Reconstruction Loss\", total_r_loss],\n",
    "                       [\"Classification Accuracy\", accuracy_total/counter]], headers=[\"Training Loss/Accuracy\", \"Value\"]))\n",
    "        print(\"\\n\")\n",
    "        print(tabulate([[\"Margin Loss\", test_m_loss], [\"Reconstruction Loss\", test_r_loss],\n",
    "                       [\"Classification Accuracy\", test_accuracy_total/test_counter]], headers=[\"Testing Loss/Accuracy\", \"Value\"]))\n",
    "    else:\n",
    "        train_m_loss_list.append(total_m_loss)\n",
    "        train_acc_list.append(accuracy_total/counter)\n",
    "        test_m_loss_list.append(test_m_loss)\n",
    "        test_acc_list.append(test_accuracy_total/test_counter)\n",
    "        \n",
    "        print(\"\\t----Epoch %d---- \"%(epoch_iter))\n",
    "        print(tabulate([[\"Margin Loss\", total_m_loss],[\"Classification Accuracy\", accuracy_total/counter]],\n",
    "                       headers=[\"Training Loss/Accuracy\", \"Value\"]))\n",
    "        print(\"\\n\")\n",
    "        print(tabulate([[\"Margin Loss\", test_m_loss],[\"Classification Accuracy\", test_accuracy_total/test_counter]], \n",
    "                       headers=[\"Testing Loss/Accuracy\", \"Value\"]))\n",
    "        \n",
    "    saver.save(sess, \"./model_ckpt/model.ckpt\")\n",
    "    print(\"Model saved !\")\n",
    "    \n"
   ]
  },
  {
   "cell_type": "markdown",
   "metadata": {},
   "source": [
    "### Graph"
   ]
  },
  {
   "cell_type": "code",
   "execution_count": 14,
   "metadata": {},
   "outputs": [],
   "source": [
    "x_axis    = [x for x in range(epoch)]"
   ]
  },
  {
   "cell_type": "markdown",
   "metadata": {},
   "source": [
    "**Margin Loss**"
   ]
  },
  {
   "cell_type": "code",
   "execution_count": 15,
   "metadata": {},
   "outputs": [
    {
     "data": {
      "image/png": "[encoded data removed]",
      "text/plain": [
       "<Figure size 432x288 with 1 Axes>"
      ]
     },
     "metadata": {},
     "output_type": "display_data"
    }
   ],
   "source": [
    "plt.plot(x_axis, train_m_loss_list,    'b--', label='Training Margin Loss')\n",
    "plt.plot(x_axis, test_m_loss_list,  'r--', label='Testing Margin Loss')\n",
    "plt.title(\"Margin Loss during Training and Testing\")\n",
    "plt.ylabel(\"Margin Loss\")\n",
    "plt.xlabel(\"Epoch\")\n",
    "plt.legend()\n",
    "plt.show()"
   ]
  },
  {
   "cell_type": "markdown",
   "metadata": {},
   "source": [
    "**Reconstruction Loss**"
   ]
  },
  {
   "cell_type": "code",
   "execution_count": 16,
   "metadata": {},
   "outputs": [
    {
     "data": {
      "image/png": "[encoded data removed]",
      "text/plain": [
       "<Figure size 432x288 with 1 Axes>"
      ]
     },
     "metadata": {},
     "output_type": "display_data"
    }
   ],
   "source": [
    "if reconstruction:\n",
    "    plt.plot(x_axis, train_r_loss_list,    'b--', label='Training Reconstruction Loss')\n",
    "    plt.plot(x_axis, test_r_loss_list,  'r--', label='Testing Reconstruction Loss')\n",
    "    plt.title(\"Reconstruction Loss during Training and Testing\")\n",
    "    plt.ylabel(\"Reconstruction Loss\")\n",
    "    plt.xlabel(\"Epoch\")\n",
    "    plt.legend()\n",
    "    plt.show()\n",
    "else:\n",
    "    print(\"Reconstruction disabled!\")"
   ]
  },
  {
   "cell_type": "markdown",
   "metadata": {},
   "source": [
    "**Classification Accuracy**"
   ]
  },
  {
   "cell_type": "code",
   "execution_count": 17,
   "metadata": {},
   "outputs": [
    {
     "data": {
      "image/png": "[encoded data removed]",
      "text/plain": [
       "<Figure size 432x288 with 1 Axes>"
      ]
     },
     "metadata": {},
     "output_type": "display_data"
    }
   ],
   "source": [
    "plt.plot(x_axis, train_acc_list,    'b--', label='Training Classification Accuracy')\n",
    "plt.plot(x_axis, test_acc_list,  'r--', label='Testing Classification Accuracy')\n",
    "plt.title(\"Classification Accuracy during Training and Testing\")\n",
    "plt.ylabel(\"Classification Accuracy\")\n",
    "plt.xlabel(\"Epoch\")\n",
    "plt.legend()\n",
    "plt.show()"
   ]
  },
  {
   "cell_type": "markdown",
   "metadata": {},
   "source": [
    "### Decoder "
   ]
  },
  {
   "cell_type": "code",
   "execution_count": 18,
   "metadata": {},
   "outputs": [],
   "source": [
    "if reconstruction :\n",
    "    #pick the first 20 images from the testing set\n",
    "    first_index = 0\n",
    "    last_index = 20\n",
    "\n",
    "    sample_images = test_images[first_index:last_index] \n",
    "    sample_labels = test_labels[first_index:last_index]"
   ]
  },
  {
   "cell_type": "code",
   "execution_count": 19,
   "metadata": {},
   "outputs": [],
   "source": [
    "if reconstruction:\n",
    "    reconstructed_img = sess.run(decoded, feed_dict={X:sample_images, Y:sample_labels})\n",
    "    reconstructed_img = np.reshape(reconstructed_img, (reconstructed_img.shape[0], 28,28)) #reshape into [batch_size, 28,28]"
   ]
  },
  {
   "cell_type": "markdown",
   "metadata": {},
   "source": [
    "**Plot images**"
   ]
  },
  {
   "cell_type": "code",
   "execution_count": 21,
   "metadata": {},
   "outputs": [
    {
     "data": {
      "image/png": "[encoded data removed]",
      "text/plain": [
       "<Figure size 1440x360 with 20 Axes>"
      ]
     },
     "metadata": {},
     "output_type": "display_data"
    }
   ],
   "source": [
    "if reconstruction : \n",
    "    fig=plt.figure(figsize=(20, 5))\n",
    "    columns = 10\n",
    "    rows = 2\n",
    "    for i in range(1, columns*rows+1):\n",
    "        img = None\n",
    "        title = None\n",
    "        if i > 10:\n",
    "            title = 'Reconstructed'\n",
    "            img = reconstructed_img[i-11]\n",
    "        else:\n",
    "            title = \"Original\"\n",
    "            img = np.reshape(sample_images[i-1], (28,28))\n",
    "\n",
    "        fig.add_subplot(rows, columns, i)\n",
    "        plt.imshow(img, cmap='gray')\n",
    "        plt.title(title)\n",
    "        plt.xticks(())\n",
    "        plt.yticks(())\n",
    "    plt.show()"
   ]
  }
 ],
 "metadata": {
  "kernelspec": {
   "display_name": "Python 3",
   "language": "python",
   "name": "python3"
  },
  "language_info": {
   "codemirror_mode": {
    "name": "ipython",
    "version": 3
   },
   "file_extension": ".py",
   "mimetype": "text/x-python",
   "name": "python",
   "nbconvert_exporter": "python",
   "pygments_lexer": "ipython3",
   "version": "3.5.2"
  }
 },
 "nbformat": 4,
 "nbformat_minor": 2
}
